{
 "cells": [
  {
   "cell_type": "code",
   "execution_count": 1,
   "metadata": {},
   "outputs": [],
   "source": [
    "import pandas as pd\n",
    "import numpy as np\n",
    "import matplotlib.pyplot as plt\n",
    "import os "
   ]
  },
  {
   "cell_type": "code",
   "execution_count": 2,
   "metadata": {},
   "outputs": [],
   "source": [
    "# set working directory\n",
    "os.chdir(\"/Users/jasonchan/Documents/DataProjects\")\n",
    "\n",
    "# read in stop data\n",
    "stops = pd.read_csv(\"WI-clean.csv\", parse_dates = ['stop_date'], low_memory = False)\n",
    "# read in county segregation data\n",
    "seg = pd.read_csv(\"WI_segregation.csv\")\n",
    "\n",
    "# drop rows where driver race is not specified\n",
    "stops = stops[stops.driver_race.notnull()]"
   ]
  },
  {
   "cell_type": "code",
   "execution_count": 3,
   "metadata": {},
   "outputs": [],
   "source": [
    "# change search_conducted column to int type\n",
    "stops['search_conducted'] = stops['search_conducted'] * 1\n",
    "\n",
    "# change contraband_found column to int type\n",
    "stops['contraband_found'] = stops['contraband_found'] * 1\n",
    "\n",
    "# change is_arrested to int type \n",
    "stops['is_arrested'] = stops['is_arrested'] * 1\n",
    "\n",
    "# change drugs_related_stop to int type\n",
    "stops['drugs_related_stop'] = stops['drugs_related_stop'] * 1\n",
    "\n",
    "## apply some lambda function to do above\n",
    "\n",
    "# change stop_time to datetime\n",
    "stops['stop_time'] = pd.to_datetime(stops['stop_time'], format='%H:%M')\n",
    "\n",
    "# change location raw to str\n",
    "stops['location_raw'] = stops['location_raw'].apply(str)\n",
    "\n",
    "# change search_conducted values to int type\n",
    "stops['search_conducted'] = stops['search_conducted'].astype(int)"
   ]
  },
  {
   "cell_type": "code",
   "execution_count": 4,
   "metadata": {},
   "outputs": [],
   "source": [
    "minorities = ['Black', 'Hispanic']\n",
    "\n",
    "# stops where search was conducted and contrabound was found\n",
    "successful_stops = stops.loc[stops['contraband_found'] == 1]\n",
    "\n",
    "# minority stops\n",
    "minority_stops = stops.loc[stops['driver_race'].isin(minorities)]\n",
    "\n",
    "# white stops\n",
    "white_stops = stops.loc[stops['driver_race'] == 'White']\n",
    "\n",
    "# hit rate among minorities\n",
    "minority_searches = stops.loc[(stops['driver_race'].isin(minorities)) & stops['search_conducted'] == 1] # minority stops where search was conducted\n",
    "successful_minority_stops = successful_stops.loc[successful_stops['driver_race'].isin(minorities)] # minority stops where contraband was found\n",
    "minority_hit = successful_minority_stops.shape[0] / minority_searches.shape[0] # minority hit rate \n",
    "\n",
    "# hit rate among whites\n",
    "white_searches = stops.loc[(stops['driver_race'] == 'White') & stops['search_conducted'] == 1]\n",
    "successful_white_stops = successful_stops.loc[successful_stops['driver_race'] == 'White']\n",
    "white_hit = successful_white_stops.shape[0] / white_searches.shape[0] # white hit rate\n"
   ]
  },
  {
   "cell_type": "code",
   "execution_count": 5,
   "metadata": {
    "scrolled": false
   },
   "outputs": [
    {
     "data": {
      "text/plain": [
       "<matplotlib.collections.PathCollection at 0x1161d0588>"
      ]
     },
     "execution_count": 5,
     "metadata": {},
     "output_type": "execute_result"
    },
    {
     "data": {
      "image/png": "[encoded data removed]",
      "text/plain": [
       "<Figure size 432x288 with 1 Axes>"
      ]
     },
     "metadata": {
      "needs_background": "light"
     },
     "output_type": "display_data"
    }
   ],
   "source": [
    "# remove counties with less than 1000 observations\n",
    "county_stops_group = stops.groupby('location_raw').filter(lambda x: len(x) >= 1000)\n",
    "# obtain observation counts for each county\n",
    "county_stops = county_stops_group.groupby('location_raw').size().reset_index(name='counts')\n",
    "# change column name of 'location_raw' to 'county'\n",
    "county_stops.columns = ['county', 'count']\n",
    "\n",
    "# Do more segregated counties have larger disparities in search rates between blacks and whites?\n",
    "\n",
    "# calculate difference in search rates between whites and minorities per county\n",
    "def stop_rate(county):\n",
    "    minority_rate = minority_searches.loc[minority_searches['location_raw'] == county].shape[0] / minority_stops.loc[minority_stops['location_raw'] == county].shape[0]\n",
    "    white_rate = white_searches.loc[white_searches['location_raw'] == county].shape[0] / white_stops.loc[white_stops['location_raw'] == county].shape[0]\n",
    "    return(minority_rate - white_rate)\n",
    "\n",
    "# stop rates for every county\n",
    "stop_rates = county_stops['county'].apply(lambda x: stop_rate(x))\n",
    "# append to county_stops column\n",
    "county_stops['stop_rates'] = stop_rates\n",
    "\n",
    "# merge county and segregation dataframe\n",
    "county_seg = pd.merge(county_stops, seg, how = 'inner', on = 'county')\n",
    "# remove rows with NaN\n",
    "county_seg = county_seg.dropna()\n",
    "\n",
    "# plot segregation index and stop_rates\n",
    "plt.scatter(x = county_seg['segregation'], y = county_seg['stop_rates'])\n",
    "\n",
    "# do more segregated areas search minorities more? "
   ]
  },
  {
   "cell_type": "markdown",
   "metadata": {},
   "source": [
    "Search Classification"
   ]
  },
  {
   "cell_type": "markdown",
   "metadata": {},
   "source": [
    "Data Cleaning and PreProcessing"
   ]
  },
  {
   "cell_type": "code",
   "execution_count": 136,
   "metadata": {},
   "outputs": [],
   "source": [
    "from datetime import datetime\n",
    "# Encoding counties\n",
    "\n",
    "# create copy of stops dataframe\n",
    "stops_copy = stops.copy(deep = True)\n",
    "\n",
    "# dummy encode counties\n",
    "counties = pd.Series(list(stops_copy['location_raw']))\n",
    "counties_enc = pd.get_dummies(counties)\n",
    "\n",
    "# dummy encode driver race\n",
    "race = pd.Series(list(stops_copy['driver_race']))\n",
    "race_enc = pd.get_dummies(race)\n",
    "\n",
    "# encode driver gender\n",
    "gender_enc = stops_copy['driver_gender'].map(dict(F = 0, M = 1))\n",
    "\n",
    "# Feature extraction\n",
    "# day of week\n",
    "day_of_week = lambda x: x.weekday()\n",
    "stops_copy['day_of_week'] = stops_copy['stop_date'].map(day_of_week)\n",
    "# dummy encode day of the week\n",
    "dotw = pd.Series(list(stops_copy['day_of_week']))\n",
    "dotw_enc = pd.get_dummies(dotw)\n",
    "# rename columns to days of the week\n",
    "dotw_enc.columns = ['mon', 'tue', 'wed', 'thur', 'fri', 'sat', 'sun']\n",
    "\n",
    "# year\n",
    "stops_copy['year'] = stops_copy['stop_date'].dt.year \n",
    "\n",
    "# month\n",
    "stops_copy['month'] = stops_copy['stop_date'].dt.month\n",
    "# dummy encode month\n",
    "month = pd.Series(list(stops_copy['month']))\n",
    "month_enc = pd.get_dummies(month)\n",
    "# rename columns to months\n",
    "month_enc.columns = ['jan', 'feb', 'mar', 'apr', 'may', 'jun', 'jul', 'aug', 'sep', 'oct', 'nov', 'dec']\n",
    "\n",
    "# hour\n",
    "hour = stops_copy['stop_time'].dt.hour\n",
    "# minute\n",
    "minute = stops_copy['stop_time'].dt.minute\n",
    "\n",
    "# apply sin and cosin transformation to hour column\n",
    "hourfloat = hour + minute/60\n",
    "stops_copy['hour_x']= np.sin(2.*np.pi*hourfloat/24.)\n",
    "stops_copy['hour_y']= np.cos(2.*np.pi*hourfloat/24.)\n",
    "\n",
    "# keep relevant non-encoded columns\n",
    "stops_enc = stops_copy.loc[:, ['search_conducted', 'hour_x', 'hour_y']]\n",
    "\n",
    "# concatenate encoded dataframes to stops dataframe\n",
    "stops_enc = pd.concat([stops_enc, gender_enc, race_enc], axis = 1, ignore_index = False)\n",
    "\n",
    "# remove any rows with missing values\n",
    "stops_enc = stops_enc.dropna()\n",
    "stops_enc.head()\n",
    "\n",
    "# split into train and test set, stratify\n",
    "train_x, test_x, train_y, test_y = train_test_split(x, y, test_size = 0.25, random_state = 0, stratify = y)\n"
   ]
  },
  {
   "cell_type": "markdown",
   "metadata": {},
   "source": [
    "Model Construction\n"
   ]
  },
  {
   "cell_type": "code",
   "execution_count": 127,
   "metadata": {
    "scrolled": true
   },
   "outputs": [
    {
     "name": "stdout",
     "output_type": "stream",
     "text": [
      "{'max_features': 'auto', 'n_estimators': 50}\n"
     ]
    }
   ],
   "source": [
    "from sklearn.ensemble import RandomForestClassifier\n",
    "from sklearn.model_selection import train_test_split\n",
    "from sklearn.metrics import accuracy_score\n",
    "from sklearn.model_selection import cross_val_score\n",
    "from sklearn.model_selection import StratifiedKFold\n",
    "from sklearn.model_selection import GridSearchCV\n",
    "\n",
    "# set random seed\n",
    "np.random.seed(0)\n",
    "\n",
    "# shuffle dataset\n",
    "stops_enc_samp = stops_enc.sample(frac = 1)\n",
    "\n",
    "# split features and target variable\n",
    "y = stops_enc_samp['search_conducted']\n",
    "x = stops_enc_samp.drop(['search_conducted'], axis = 1)\n",
    "\n",
    "# set parameters\n",
    "parameters = {'bootstrap': True,\n",
    "             'min_samples_leaf': 3,\n",
    "             'n_estimators': 50,\n",
    "             'min_samples_split': 10,\n",
    "             'max_features': 'sqrt',\n",
    "             }\n",
    "\n",
    "# define model\n",
    "rf_model = RandomForestClassifier(**parameters)\n",
    "\n",
    "\n",
    "# fit model\n",
    "rf_fit = rf_model.fit(train_x, train_y)\n",
    "\n",
    "# Cross validated grid search\n",
    "param_grid = {'n_estimators': [50,100],\n",
    "             'max_features': ['auto', 'log2']}\n",
    "\n",
    "CV_rfc = GridSearchCV(estimator = rf_model, param_grid = param_grid, cv = 10)\n",
    "CV_rfc.fit(test_x, test_y)\n",
    "print(CV_rfc.best_params_)\n"
   ]
  },
  {
   "cell_type": "code",
   "execution_count": 120,
   "metadata": {},
   "outputs": [
    {
     "data": {
      "image/png": "[encoded data removed]",
      "text/plain": [
       "<Figure size 432x288 with 1 Axes>"
      ]
     },
     "metadata": {
      "needs_background": "light"
     },
     "output_type": "display_data"
    },
    {
     "data": {
      "image/png": "[encoded data removed]",
      "text/plain": [
       "<Figure size 432x288 with 1 Axes>"
      ]
     },
     "metadata": {
      "needs_background": "light"
     },
     "output_type": "display_data"
    },
    {
     "data": {
      "text/plain": [
       "array([[151831,      0],\n",
       "       [  2365,      0]])"
      ]
     },
     "execution_count": 120,
     "metadata": {},
     "output_type": "execute_result"
    }
   ],
   "source": [
    "from sklearn.metrics import confusion_matrix\n",
    "from sklearn.metrics import roc_curve, roc_auc_score\n",
    "import scikitplot as skplt\n",
    "\n",
    "\n",
    "# randomforest predictions as probabilities\n",
    "rf_probs = rf_fit.predict_proba(test_x)\n",
    "\n",
    "# ROCR cuve, AUC\n",
    "skplt.metrics.plot_roc(test_y, rf_probs)\n",
    "plt.show()\n",
    "\n",
    "# Precision-Recall Curve\n",
    "\n",
    "skplt.metrics.plot_precision_recall(test_y, rf_probs)\n",
    "plt.show()\n",
    "\n",
    "# confusion matrix\n",
    "confusion_matrix(test_y, rf_preds)\n",
    "\n"
   ]
  },
  {
   "cell_type": "code",
   "execution_count": 128,
   "metadata": {},
   "outputs": [
    {
     "data": {
      "text/html": [
       "<div>\n",
       "<style scoped>\n",
       "    .dataframe tbody tr th:only-of-type {\n",
       "        vertical-align: middle;\n",
       "    }\n",
       "\n",
       "    .dataframe tbody tr th {\n",
       "        vertical-align: top;\n",
       "    }\n",
       "\n",
       "    .dataframe thead th {\n",
       "        text-align: right;\n",
       "    }\n",
       "</style>\n",
       "<table border=\"1\" class=\"dataframe\">\n",
       "  <thead>\n",
       "    <tr style=\"text-align: right;\">\n",
       "      <th></th>\n",
       "      <th>importance</th>\n",
       "    </tr>\n",
       "  </thead>\n",
       "  <tbody>\n",
       "    <tr>\n",
       "      <th>hour_y</th>\n",
       "      <td>0.517366</td>\n",
       "    </tr>\n",
       "    <tr>\n",
       "      <th>hour_x</th>\n",
       "      <td>0.440128</td>\n",
       "    </tr>\n",
       "    <tr>\n",
       "      <th>driver_gender</th>\n",
       "      <td>0.029531</td>\n",
       "    </tr>\n",
       "    <tr>\n",
       "      <th>Black</th>\n",
       "      <td>0.003045</td>\n",
       "    </tr>\n",
       "    <tr>\n",
       "      <th>Asian</th>\n",
       "      <td>0.002666</td>\n",
       "    </tr>\n",
       "    <tr>\n",
       "      <th>White</th>\n",
       "      <td>0.002622</td>\n",
       "    </tr>\n",
       "    <tr>\n",
       "      <th>Hispanic</th>\n",
       "      <td>0.002556</td>\n",
       "    </tr>\n",
       "    <tr>\n",
       "      <th>Other</th>\n",
       "      <td>0.002086</td>\n",
       "    </tr>\n",
       "  </tbody>\n",
       "</table>\n",
       "</div>"
      ],
      "text/plain": [
       "               importance\n",
       "hour_y           0.517366\n",
       "hour_x           0.440128\n",
       "driver_gender    0.029531\n",
       "Black            0.003045\n",
       "Asian            0.002666\n",
       "White            0.002622\n",
       "Hispanic         0.002556\n",
       "Other            0.002086"
      ]
     },
     "execution_count": 128,
     "metadata": {},
     "output_type": "execute_result"
    }
   ],
   "source": [
    "\n",
    "# feature importance\n",
    "pd.DataFrame(rf_model.feature_importances_,\n",
    "             index = train_x.columns,\n",
    "             columns = ['importance']).sort_values('importance', ascending = False)"
   ]
  },
  {
   "cell_type": "code",
   "execution_count": 137,
   "metadata": {},
   "outputs": [
    {
     "data": {
      "text/plain": [
       "array([[189821,      0],\n",
       "       [  2924,      0]])"
      ]
     },
     "execution_count": 137,
     "metadata": {},
     "output_type": "execute_result"
    }
   ],
   "source": [
    "# SVM implementation\n",
    "from sklearn import svm\n",
    "\n",
    "# create model\n",
    "svm_model = svm.SVC(kernel = 'linear')\n",
    "\n",
    "# fit model\n",
    "svm_fit = svm_model.fit(train_x, train_y)\n",
    "\n",
    "# predictions\n",
    "svm_preds = svm_fit.predict(test_x)\n",
    "\n",
    "# confusion matrix\n",
    "confusion_matrix(test_y, svm_preds)"
   ]
  },
  {
   "cell_type": "code",
   "execution_count": 135,
   "metadata": {},
   "outputs": [
    {
     "data": {
      "text/plain": [
       "array([[189780,      0],\n",
       "       [  2965,      0]])"
      ]
     },
     "execution_count": 135,
     "metadata": {},
     "output_type": "execute_result"
    }
   ],
   "source": [
    "# XGboost\n",
    "from xgboost import XGBClassifier\n",
    "\n",
    "# model\n",
    "xg_model = XGBClassifier()\n",
    "\n",
    "# fit model\n",
    "xg_fit = xg_model.fit(train_x, train_y)\n",
    "\n",
    "# predicitons\n",
    "xg_preds =xg_fit.predict(test_x)\n",
    "\n",
    "# confusion matrix\n",
    "confusion_matrix(test_y, xg_preds)"
   ]
  }
 ],
 "metadata": {
  "kernelspec": {
   "display_name": "Python 3",
   "language": "python",
   "name": "python3"
  },
  "language_info": {
   "codemirror_mode": {
    "name": "ipython",
    "version": 3
   },
   "file_extension": ".py",
   "mimetype": "text/x-python",
   "name": "python",
   "nbconvert_exporter": "python",
   "pygments_lexer": "ipython3",
   "version": "3.7.0"
  }
 },
 "nbformat": 4,
 "nbformat_minor": 2
}
